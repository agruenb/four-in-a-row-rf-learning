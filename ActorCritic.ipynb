{
 "cells": [
  {
   "cell_type": "code",
   "execution_count": 1,
   "metadata": {},
   "outputs": [
    {
     "name": "stderr",
     "output_type": "stream",
     "text": [
      "/Users/adrian/Code/education/DMUU/four-in-a-row-rf-learning/.venv/lib/python3.9/site-packages/urllib3/__init__.py:35: NotOpenSSLWarning: urllib3 v2 only supports OpenSSL 1.1.1+, currently the 'ssl' module is compiled with 'LibreSSL 2.8.3'. See: https://github.com/urllib3/urllib3/issues/3020\n",
      "  warnings.warn(\n"
     ]
    }
   ],
   "source": [
    "from fourInRowGame import Chip, FourInRowGame\n",
    "from randomAgent import randomFiarAgent\n",
    "from actorCriticArena import newAgent, AversaryWrapperTfModel"
   ]
  },
  {
   "cell_type": "code",
   "execution_count": 2,
   "metadata": {},
   "outputs": [
    {
     "name": "stdout",
     "output_type": "stream",
     "text": [
      "\n",
      "- - - - - - \n",
      "- - - - - - \n",
      "- - - - - - \n",
      "- - - - - - \n",
      "- - - - - - "
     ]
    }
   ],
   "source": [
    "env = FourInRowGame(5, 6)\n",
    "randomAgent = randomFiarAgent(env)\n",
    "env.print()"
   ]
  },
  {
   "cell_type": "code",
   "execution_count": 63,
   "metadata": {},
   "outputs": [],
   "source": [
    "env.reset()"
   ]
  },
  {
   "cell_type": "code",
   "execution_count": 4,
   "metadata": {},
   "outputs": [
    {
     "name": "stderr",
     "output_type": "stream",
     "text": [
      "100%|██████████| 10000/10000 [00:17<00:00, 579.51it/s, episode_reward=100, running_reward=-78] "
     ]
    },
    {
     "name": "stdout",
     "output_type": "stream",
     "text": [
      "\n",
      "Solved at episode 9999: average reward: -78.00!\n"
     ]
    },
    {
     "name": "stderr",
     "output_type": "stream",
     "text": [
      "\n"
     ]
    }
   ],
   "source": [
    "yellowAgent = newAgent(env, 196, randomAgent, Chip.YELLOW)\n",
    "adversary_1 = AversaryWrapperTfModel(yellowAgent)"
   ]
  },
  {
   "cell_type": "code",
   "execution_count": 5,
   "metadata": {},
   "outputs": [
    {
     "name": "stdout",
     "output_type": "stream",
     "text": [
      "\n",
      "- - - Y - - \n",
      "- - - Y - - \n",
      "- - - Y - - \n",
      "- R R Y R - \n",
      "- R Y Y R Y "
     ]
    },
    {
     "name": "stderr",
     "output_type": "stream",
     "text": [
      "/Users/adrian/Code/education/DMUU/four-in-a-row-rf-learning/fourInRowGame.py:32: Warning: One player played multiple times in a row\n",
      "  warnings.warn(\"One player played multiple times in a row\", Warning)\n"
     ]
    }
   ],
   "source": [
    "col = adversary_1.select_col(env)\n",
    "env.play_game(Chip.YELLOW,col)\n",
    "env.print()"
   ]
  },
  {
   "cell_type": "code",
   "execution_count": 6,
   "metadata": {},
   "outputs": [
    {
     "name": "stdout",
     "output_type": "stream",
     "text": [
      "\n",
      "- - - Y - - \n",
      "- - - Y - - \n",
      "- R - Y - - \n",
      "- R R Y R - \n",
      "- R Y Y R Y "
     ]
    }
   ],
   "source": [
    "env.play_game(Chip.RED,1)\n",
    "env.print()"
   ]
  },
  {
   "cell_type": "code",
   "execution_count": 23,
   "metadata": {},
   "outputs": [
    {
     "name": "stderr",
     "output_type": "stream",
     "text": [
      "100%|██████████| 10000/10000 [00:42<00:00, 237.98it/s, episode_reward=100, running_reward=100] "
     ]
    },
    {
     "name": "stdout",
     "output_type": "stream",
     "text": [
      "\n",
      "Solved at episode 9999: average reward: 100.00!\n"
     ]
    },
    {
     "name": "stderr",
     "output_type": "stream",
     "text": [
      "\n"
     ]
    }
   ],
   "source": [
    "redAgent = newAgent(env, 196, adversary_1, Chip.RED)\n",
    "adversary_2 = AversaryWrapperTfModel(redAgent)"
   ]
  },
  {
   "cell_type": "code",
   "execution_count": 70,
   "metadata": {},
   "outputs": [
    {
     "name": "stdout",
     "output_type": "stream",
     "text": [
      "\n",
      "- - - - - - \n",
      "- R - - - - \n",
      "Y R - - - - \n",
      "Y R - - - - \n",
      "Y R - - - - "
     ]
    }
   ],
   "source": [
    "col = adversary_2.select_col(env)\n",
    "env.play_game(Chip.RED,col)\n",
    "env.print()"
   ]
  },
  {
   "cell_type": "code",
   "execution_count": 71,
   "metadata": {},
   "outputs": [
    {
     "name": "stdout",
     "output_type": "stream",
     "text": [
      "\n",
      "- - - - - - \n",
      "Y R - - - - \n",
      "Y R - - - - \n",
      "Y R - - - - \n",
      "Y R - - - - "
     ]
    }
   ],
   "source": [
    "col = adversary_1.select_col(env)\n",
    "env.play_game(Chip.YELLOW,0)\n",
    "env.print()"
   ]
  },
  {
   "cell_type": "code",
   "execution_count": null,
   "metadata": {},
   "outputs": [],
   "source": []
  }
 ],
 "metadata": {
  "kernelspec": {
   "display_name": ".venv",
   "language": "python",
   "name": "python3"
  },
  "language_info": {
   "codemirror_mode": {
    "name": "ipython",
    "version": 3
   },
   "file_extension": ".py",
   "mimetype": "text/x-python",
   "name": "python",
   "nbconvert_exporter": "python",
   "pygments_lexer": "ipython3",
   "version": "3.9.6"
  }
 },
 "nbformat": 4,
 "nbformat_minor": 2
}
