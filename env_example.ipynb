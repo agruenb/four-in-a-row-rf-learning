{
 "cells": [
  {
   "cell_type": "code",
   "execution_count": 1,
   "metadata": {},
   "outputs": [],
   "source": [
    "from fourInRowGame import Chip, FourInRowGame\n",
    "import numpy as np\n",
    "import random"
   ]
  },
  {
   "cell_type": "code",
   "execution_count": 2,
   "metadata": {},
   "outputs": [],
   "source": [
    "# Create a game\n",
    "env = FourInRowGame(6, 7)"
   ]
  },
  {
   "cell_type": "code",
   "execution_count": 3,
   "metadata": {},
   "outputs": [
    {
     "name": "stdout",
     "output_type": "stream",
     "text": [
      "\n",
      "Y - - - - - - \n",
      "R - - - - - - \n",
      "Y - - - - - - \n",
      "R - - - - - - \n",
      "Y - - - - - Y \n",
      "R - - - - - R "
     ]
    }
   ],
   "source": [
    "# Drop different chips into the field\n",
    "# Warning: the drop() method does not check for victory or what player played last\n",
    "env.drop(Chip.RED, 0)\n",
    "env.drop(Chip.YELLOW, 0)\n",
    "env.drop(Chip.RED, 0)\n",
    "env.drop(Chip.YELLOW, 0)\n",
    "env.drop(Chip.RED, 0)\n",
    "env.drop(Chip.YELLOW, 0)\n",
    "\n",
    "env.drop(Chip.RED, 6)\n",
    "env.drop(Chip.YELLOW, 6)\n",
    "\n",
    "# Print the field in a readable format\n",
    "env.print()"
   ]
  },
  {
   "cell_type": "code",
   "execution_count": 4,
   "metadata": {},
   "outputs": [
    {
     "name": "stdout",
     "output_type": "stream",
     "text": [
      "Column 0 height: 6\n",
      "Column 1 height: 0\n",
      "Column 6 height: 2\n"
     ]
    }
   ],
   "source": [
    "# Check colum heights\n",
    "print(\"Column 0 height:\", env.column_height(0))\n",
    "print(\"Column 1 height:\", env.column_height(1))\n",
    "print(\"Column 6 height:\", env.column_height(6))"
   ]
  },
  {
   "cell_type": "code",
   "execution_count": 5,
   "metadata": {},
   "outputs": [
    {
     "data": {
      "text/plain": [
       "False"
      ]
     },
     "execution_count": 5,
     "metadata": {},
     "output_type": "execute_result"
    }
   ],
   "source": [
    "# check if the field contains four in a row\n",
    "env.check_for_victory()"
   ]
  },
  {
   "cell_type": "code",
   "execution_count": 6,
   "metadata": {},
   "outputs": [
    {
     "name": "stdout",
     "output_type": "stream",
     "text": [
      "Four in a row: True\n",
      "\n",
      "- - - - - - - \n",
      "- - - - - - - \n",
      "- - - Y - - - \n",
      "- - Y R Y - - \n",
      "- - R R R Y - \n",
      "Y R R R Y R Y "
     ]
    }
   ],
   "source": [
    "# some more examples\n",
    "env_win = FourInRowGame(6, 7)\n",
    "env_win.drop(Chip.RED, 1)\n",
    "env_win.drop(Chip.RED, 2)\n",
    "env_win.drop(Chip.RED, 2)\n",
    "env_win.drop(Chip.RED, 3)\n",
    "env_win.drop(Chip.RED, 3)\n",
    "env_win.drop(Chip.RED, 3)\n",
    "env_win.drop(Chip.YELLOW, 0)\n",
    "#env_win.drop(Chip.YELLOW, 1)\n",
    "env_win.drop(Chip.YELLOW, 2)\n",
    "env_win.drop(Chip.YELLOW, 3)\n",
    "env_win.drop(Chip.YELLOW, 4)\n",
    "env_win.drop(Chip.RED, 4)\n",
    "env_win.drop(Chip.RED, 5)\n",
    "env_win.drop(Chip.YELLOW, 4)\n",
    "env_win.drop(Chip.YELLOW, 5)\n",
    "env_win.drop(Chip.YELLOW, 6)\n",
    "print(\"Four in a row:\", env_win.check_for_victory())\n",
    "env_win.print()"
   ]
  },
  {
   "cell_type": "code",
   "execution_count": 7,
   "metadata": {},
   "outputs": [
    {
     "name": "stdout",
     "output_type": "stream",
     "text": [
      "Victory: False\n",
      "\n",
      "- - - - - - - \n",
      "- - - - - - - \n",
      "- - - - - - - \n",
      "- - - - - - - \n",
      "- - - - - - - \n",
      "- - - - Y - - "
     ]
    }
   ],
   "source": [
    "# for RF learning use the play_game() function\n",
    "rf_env = FourInRowGame(6, 7)\n",
    "\n",
    "# play_game() checks for a victory after each move\n",
    "victory = rf_env.play_game(Chip.YELLOW, 4)\n",
    "\n",
    "print(\"Victory:\", victory)\n",
    "\n",
    "rf_env.print()"
   ]
  },
  {
   "cell_type": "code",
   "execution_count": 8,
   "metadata": {},
   "outputs": [
    {
     "data": {
      "text/plain": [
       "array([[0, 0, 0, 0, 1, 0, 0],\n",
       "       [0, 0, 0, 0, 0, 0, 0],\n",
       "       [0, 0, 0, 0, 0, 0, 0],\n",
       "       [0, 0, 0, 0, 0, 0, 0],\n",
       "       [0, 0, 0, 0, 0, 0, 0],\n",
       "       [0, 0, 0, 0, 0, 0, 0]])"
      ]
     },
     "execution_count": 8,
     "metadata": {},
     "output_type": "execute_result"
    }
   ],
   "source": [
    "# to get a simple numpy array representation of the game state use get_simple_slots()\n",
    "rf_env.get_simple_slots()"
   ]
  },
  {
   "cell_type": "code",
   "execution_count": 9,
   "metadata": {},
   "outputs": [
    {
     "name": "stdout",
     "output_type": "stream",
     "text": [
      "\n",
      "- - - - - - - \n",
      "- - - - - - - \n",
      "- - - - - - - \n",
      "- - - - - - - \n",
      "- - - - - - - \n",
      "- - - - - - - "
     ]
    }
   ],
   "source": [
    "#reset the environment\n",
    "\n",
    "rf_env.reset()\n",
    "rf_env.print()"
   ]
  },
  {
   "cell_type": "code",
   "execution_count": 10,
   "metadata": {},
   "outputs": [],
   "source": [
    "# simple reinforcement learning example. It should just show how the environment could be used.\n",
    "# For example, if one column is full the amount of possible actions change. I am not sure how to\n",
    "# handle that\n",
    "# Also representing the state as a single number is possibly very difficult due to the large state space\n",
    "\n",
    "def random_rf_episode():\n",
    "    rf_env.reset()\n",
    "    for i in range(42):# max 42 moves in a game\n",
    "        if i % 2 == 0:\n",
    "            #player one\n",
    "            random_col = random.randint(0, 6)\n",
    "            # trying to put into full column\n",
    "            if rf_env.column_height(random_col) == 6:\n",
    "                return -100 # invalid move is bad\n",
    "            victory = rf_env.play_game(Chip.YELLOW, random_col)\n",
    "            if victory:\n",
    "                return 200 # won the game is good\n",
    "        else:\n",
    "            #player two\n",
    "            random_col = random.randint(0, 6)\n",
    "            # trying to put into full column\n",
    "            if rf_env.column_height(random_col) == 6:\n",
    "                return 0 # invalid move results in no reward\n",
    "            victory = rf_env.play_game(Chip.RED, random_col)\n",
    "            if victory:\n",
    "                return -500 # high penalty for defeat\n",
    "    return 0"
   ]
  },
  {
   "cell_type": "code",
   "execution_count": 11,
   "metadata": {},
   "outputs": [
    {
     "name": "stdout",
     "output_type": "stream",
     "text": [
      "Random reward:  -500\n",
      "\n",
      "- - - - - - - \n",
      "- - - - - - - \n",
      "- - - - Y - - \n",
      "- R R - Y Y Y \n",
      "R R R R Y R Y \n",
      "Y Y Y R R Y R "
     ]
    }
   ],
   "source": [
    "# run this cell multiple times and see different rewards (YELLOW wins gives positive reward)\n",
    "print(\"Random reward: \", random_rf_episode())\n",
    "rf_env.print()"
   ]
  }
 ],
 "metadata": {
  "kernelspec": {
   "display_name": ".venv",
   "language": "python",
   "name": "python3"
  },
  "language_info": {
   "codemirror_mode": {
    "name": "ipython",
    "version": 3
   },
   "file_extension": ".py",
   "mimetype": "text/x-python",
   "name": "python",
   "nbconvert_exporter": "python",
   "pygments_lexer": "ipython3",
   "version": "3.9.6"
  }
 },
 "nbformat": 4,
 "nbformat_minor": 2
}
