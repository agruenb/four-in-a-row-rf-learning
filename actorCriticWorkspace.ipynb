{
 "cells": [
  {
   "cell_type": "code",
   "execution_count": 1,
   "metadata": {},
   "outputs": [
    {
     "name": "stderr",
     "output_type": "stream",
     "text": [
      "/Users/adrian/Code/education/DMUU/four-in-a-row-rf-learning/.venv/lib/python3.9/site-packages/urllib3/__init__.py:35: NotOpenSSLWarning: urllib3 v2 only supports OpenSSL 1.1.1+, currently the 'ssl' module is compiled with 'LibreSSL 2.8.3'. See: https://github.com/urllib3/urllib3/issues/3020\n",
      "  warnings.warn(\n"
     ]
    }
   ],
   "source": [
    "from fourInRowGame import Chip, FourInRowGame\n",
    "from randomAgent import randomFiarAgent\n",
    "from actorCriticImplementation import newAgent, AversaryWrapperTfModel\n",
    "import pickle"
   ]
  },
  {
   "cell_type": "code",
   "execution_count": 2,
   "metadata": {},
   "outputs": [
    {
     "name": "stdout",
     "output_type": "stream",
     "text": [
      "\n",
      "- - - - - - - \n",
      "- - - - - - - \n",
      "- - - - - - - \n",
      "- - - - - - - \n",
      "- - - - - - - \n",
      "- - - - - - - "
     ]
    }
   ],
   "source": [
    "env = FourInRowGame(6, 7)\n",
    "randomAgent = randomFiarAgent(env)\n",
    "env.print()"
   ]
  },
  {
   "cell_type": "code",
   "execution_count": 6,
   "metadata": {},
   "outputs": [
    {
     "name": "stderr",
     "output_type": "stream",
     "text": [
      "100%|██████████| 10000/10000 [00:21<00:00, 459.64it/s, episode_reward=-192, running_reward=-82.3]"
     ]
    },
    {
     "name": "stdout",
     "output_type": "stream",
     "text": [
      "\n",
      "Solved at episode 9999: average reward: -82.30!\n"
     ]
    },
    {
     "name": "stderr",
     "output_type": "stream",
     "text": [
      "\n"
     ]
    }
   ],
   "source": [
    "yellowAgent = newAgent(env, 128, randomAgent, Chip.YELLOW)\n",
    "adversary_yellow_1 = AversaryWrapperTfModel(yellowAgent)"
   ]
  },
  {
   "cell_type": "code",
   "execution_count": 9,
   "metadata": {},
   "outputs": [
    {
     "name": "stderr",
     "output_type": "stream",
     "text": [
      "100%|██████████| 10000/10000 [01:31<00:00, 108.76it/s, episode_reward=-30, running_reward=-73.7]"
     ]
    },
    {
     "name": "stdout",
     "output_type": "stream",
     "text": [
      "\n",
      "Solved at episode 9999: average reward: -73.66!\n"
     ]
    },
    {
     "name": "stderr",
     "output_type": "stream",
     "text": [
      "\n"
     ]
    }
   ],
   "source": [
    "redAgent = newAgent(env, 196, adversary_yellow_1, Chip.RED, 10000)\n",
    "adversary_red_2 = AversaryWrapperTfModel(redAgent)"
   ]
  },
  {
   "cell_type": "code",
   "execution_count": 12,
   "metadata": {},
   "outputs": [
    {
     "name": "stderr",
     "output_type": "stream",
     "text": [
      "100%|██████████| 10000/10000 [01:35<00:00, 104.80it/s, episode_reward=-187, running_reward=-88.6]"
     ]
    },
    {
     "name": "stdout",
     "output_type": "stream",
     "text": [
      "\n",
      "Solved at episode 9999: average reward: -88.57!\n"
     ]
    },
    {
     "name": "stderr",
     "output_type": "stream",
     "text": [
      "\n"
     ]
    }
   ],
   "source": [
    "yellowAgent2 = newAgent(env, 256, adversary_red_2, Chip.YELLOW)\n",
    "adversary_yellow_2 = AversaryWrapperTfModel(yellowAgent2)"
   ]
  },
  {
   "cell_type": "code",
   "execution_count": 19,
   "metadata": {},
   "outputs": [
    {
     "name": "stderr",
     "output_type": "stream",
     "text": [
      "100%|██████████| 15000/15000 [02:12<00:00, 113.45it/s, episode_reward=-191, running_reward=-71.6]"
     ]
    },
    {
     "name": "stdout",
     "output_type": "stream",
     "text": [
      "\n",
      "Solved at episode 14999: average reward: -71.64!\n"
     ]
    },
    {
     "name": "stderr",
     "output_type": "stream",
     "text": [
      "\n"
     ]
    }
   ],
   "source": [
    "redAgent3 = newAgent(env, 512, adversary_yellow_2, Chip.RED, 15000)\n",
    "adversary_red_3 = AversaryWrapperTfModel(redAgent3)"
   ]
  },
  {
   "cell_type": "code",
   "execution_count": 21,
   "metadata": {},
   "outputs": [
    {
     "name": "stderr",
     "output_type": "stream",
     "text": [
      "100%|██████████| 15000/15000 [02:22<00:00, 105.50it/s, episode_reward=52, running_reward=-49.1] "
     ]
    },
    {
     "name": "stdout",
     "output_type": "stream",
     "text": [
      "\n",
      "Solved at episode 14999: average reward: -49.14!\n"
     ]
    },
    {
     "name": "stderr",
     "output_type": "stream",
     "text": [
      "\n"
     ]
    }
   ],
   "source": [
    "yellowAgent3 = newAgent(env, 512, adversary_red_3, Chip.YELLOW, 15000)\n",
    "adversary_yellow_3 = AversaryWrapperTfModel(yellowAgent3)"
   ]
  },
  {
   "cell_type": "code",
   "execution_count": 25,
   "metadata": {},
   "outputs": [
    {
     "name": "stderr",
     "output_type": "stream",
     "text": [
      "100%|██████████| 15000/15000 [02:27<00:00, 101.40it/s, episode_reward=49, running_reward=-57.4]  "
     ]
    },
    {
     "name": "stdout",
     "output_type": "stream",
     "text": [
      "\n",
      "Solved at episode 14999: average reward: -57.35!\n"
     ]
    },
    {
     "name": "stderr",
     "output_type": "stream",
     "text": [
      "\n"
     ]
    }
   ],
   "source": [
    "redAgent4 = newAgent(env, 1024, adversary_yellow_3, Chip.RED, 15000)\n",
    "adversary_red_4 = AversaryWrapperTfModel(redAgent4)"
   ]
  },
  {
   "cell_type": "code",
   "execution_count": 29,
   "metadata": {},
   "outputs": [
    {
     "name": "stderr",
     "output_type": "stream",
     "text": [
      "100%|██████████| 20000/20000 [03:29<00:00, 95.29it/s, episode_reward=-187, running_reward=-53.7] "
     ]
    },
    {
     "name": "stdout",
     "output_type": "stream",
     "text": [
      "\n",
      "Solved at episode 19999: average reward: -53.67!\n"
     ]
    },
    {
     "name": "stderr",
     "output_type": "stream",
     "text": [
      "\n"
     ]
    }
   ],
   "source": [
    "yellowAgent4 = newAgent(env, 2048, adversary_red_4, Chip.YELLOW, 20000)\n",
    "adversary_yellow_4 = AversaryWrapperTfModel(yellowAgent4)"
   ]
  },
  {
   "cell_type": "code",
   "execution_count": 35,
   "metadata": {},
   "outputs": [
    {
     "name": "stderr",
     "output_type": "stream",
     "text": [
      "100%|██████████| 25000/25000 [05:32<00:00, 75.27it/s, episode_reward=55, running_reward=-82.6]   "
     ]
    },
    {
     "name": "stdout",
     "output_type": "stream",
     "text": [
      "\n",
      "Solved at episode 24999: average reward: -82.64!\n"
     ]
    },
    {
     "name": "stderr",
     "output_type": "stream",
     "text": [
      "\n"
     ]
    }
   ],
   "source": [
    "redAgent5 = newAgent(env, 2048, adversary_yellow_4, Chip.RED, 20000)\n",
    "adversary_red_5 = AversaryWrapperTfModel(redAgent5)"
   ]
  },
  {
   "cell_type": "code",
   "execution_count": 37,
   "metadata": {},
   "outputs": [
    {
     "name": "stderr",
     "output_type": "stream",
     "text": [
      "100%|██████████| 20000/20000 [03:50<00:00, 86.87it/s, episode_reward=-191, running_reward=-138] "
     ]
    },
    {
     "name": "stdout",
     "output_type": "stream",
     "text": [
      "\n",
      "Solved at episode 19999: average reward: -138.28!\n"
     ]
    },
    {
     "name": "stderr",
     "output_type": "stream",
     "text": [
      "\n"
     ]
    }
   ],
   "source": [
    "yellowAgent5 = newAgent(env, 2048, adversary_red_5, Chip.YELLOW, 20000)\n",
    "adversary_yellow_5 = AversaryWrapperTfModel(yellowAgent5)"
   ]
  },
  {
   "cell_type": "code",
   "execution_count": 38,
   "metadata": {},
   "outputs": [],
   "source": [
    "with open(\"actorCriticLvl5Yellow.pkl\", \"wb\") as f:\n",
    "    pickle.dump(adversary_yellow_5, f)\n",
    "with open(\"actorCriticLvl5Red.pkl\", \"wb\") as f:\n",
    "    pickle.dump(adversary_red_5, f)"
   ]
  },
  {
   "cell_type": "markdown",
   "metadata": {},
   "source": [
    "Reload from checkpoint"
   ]
  },
  {
   "cell_type": "code",
   "execution_count": 3,
   "metadata": {},
   "outputs": [],
   "source": [
    "# load old agents from files\n",
    "with open(\"actorCriticLvl2Yellow.pkl\", \"rb\") as f:\n",
    "    yellowLvl2 = pickle.load(f)\n",
    "with open(\"actorCriticLvl3Yellow.pkl\", \"rb\") as f:\n",
    "    yellowLvl3 = pickle.load(f)\n",
    "with open(\"actorCriticLvl4Yellow.pkl\", \"rb\") as f:\n",
    "    yellowLvl4 = pickle.load(f)\n",
    "with open(\"actorCriticLvl5Yellow.pkl\", \"rb\") as f:\n",
    "    yellowLvl5 = pickle.load(f)\n",
    "\n",
    "with open(\"actorCriticLvl3Red.pkl\", \"rb\") as f:\n",
    "    redLvl3 = pickle.load(f)\n",
    "with open(\"actorCriticLvl4Red.pkl\", \"rb\") as f:\n",
    "    redLvl4 = pickle.load(f)\n",
    "with open(\"actorCriticLvl5Red.pkl\", \"rb\") as f:\n",
    "    redLvl5 = pickle.load(f)"
   ]
  },
  {
   "cell_type": "code",
   "execution_count": 4,
   "metadata": {},
   "outputs": [
    {
     "name": "stdout",
     "output_type": "stream",
     "text": [
      "<actorCriticImplementation.AversaryWrapperTfModel object at 0x28d319fa0>\n"
     ]
    },
    {
     "name": "stderr",
     "output_type": "stream",
     "text": [
      " 50%|█████     | 7524/15000 [00:51<00:59, 125.98it/s, episode_reward=-34, running_reward=-172]  "
     ]
    },
    {
     "name": "stdout",
     "output_type": "stream",
     "text": [
      "Switching Adversary\n"
     ]
    },
    {
     "name": "stderr",
     "output_type": "stream",
     "text": [
      "100%|██████████| 15000/15000 [01:56<00:00, 129.27it/s, episode_reward=-189, running_reward=-18.6]"
     ]
    },
    {
     "name": "stdout",
     "output_type": "stream",
     "text": [
      "\n",
      "Solved at episode 14999: average reward: -18.58!\n"
     ]
    },
    {
     "name": "stderr",
     "output_type": "stream",
     "text": [
      "\n"
     ]
    }
   ],
   "source": [
    "redAgent6 = newAgent(env, 2048, [yellowLvl4, yellowLvl5], Chip.RED, 15000)\n",
    "adversary_red_6 = AversaryWrapperTfModel(redAgent6)"
   ]
  },
  {
   "cell_type": "code",
   "execution_count": 7,
   "metadata": {},
   "outputs": [
    {
     "name": "stdout",
     "output_type": "stream",
     "text": [
      "<actorCriticImplementation.AversaryWrapperTfModel object at 0x28eaf8fd0>\n"
     ]
    },
    {
     "name": "stderr",
     "output_type": "stream",
     "text": [
      " 50%|█████     | 9020/18000 [01:10<01:18, 114.55it/s, episode_reward=-197, running_reward=-154] "
     ]
    },
    {
     "name": "stdout",
     "output_type": "stream",
     "text": [
      "Switching Adversary\n"
     ]
    },
    {
     "name": "stderr",
     "output_type": "stream",
     "text": [
      "100%|██████████| 18000/18000 [02:31<00:00, 119.10it/s, episode_reward=-34, running_reward=-146]  "
     ]
    },
    {
     "name": "stdout",
     "output_type": "stream",
     "text": [
      "\n",
      "Solved at episode 17999: average reward: -145.59!\n"
     ]
    },
    {
     "name": "stderr",
     "output_type": "stream",
     "text": [
      "\n"
     ]
    }
   ],
   "source": [
    "yellowAgent6 = newAgent(env, 2048, [redLvl5, adversary_red_6], Chip.YELLOW, 18000)\n",
    "adversary_yellow_6 = AversaryWrapperTfModel(yellowAgent6)"
   ]
  },
  {
   "cell_type": "code",
   "execution_count": 8,
   "metadata": {},
   "outputs": [],
   "source": [
    "with open(\"actorCriticLvl6Yellow.pkl\", \"wb\") as f:\n",
    "    pickle.dump(adversary_yellow_6, f)"
   ]
  }
 ],
 "metadata": {
  "kernelspec": {
   "display_name": ".venv",
   "language": "python",
   "name": "python3"
  },
  "language_info": {
   "codemirror_mode": {
    "name": "ipython",
    "version": 3
   },
   "file_extension": ".py",
   "mimetype": "text/x-python",
   "name": "python",
   "nbconvert_exporter": "python",
   "pygments_lexer": "ipython3",
   "version": "3.9.6"
  }
 },
 "nbformat": 4,
 "nbformat_minor": 2
}
