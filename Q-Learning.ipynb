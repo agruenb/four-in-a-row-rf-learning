{
 "cells": [
  {
   "cell_type": "code",
   "execution_count": 1,
   "id": "e6268c7f-9ced-4a2d-8cc1-a42ede269700",
   "metadata": {},
   "outputs": [],
   "source": [
    "from fourInRowGame import Chip, FourInRowGame\n",
    "import numpy as np\n",
    "import seaborn as sns\n",
    "import matplotlib.pylab as plt"
   ]
  },
  {
   "cell_type": "code",
   "execution_count": 2,
   "id": "355a0a1a-06a9-4a06-b6b1-8fce23b11a57",
   "metadata": {},
   "outputs": [],
   "source": [
    "def CreateBoardStates(nbrows,nbcolumns):   \n",
    "    #boardstate is a list where all (x,y) are stored. The order is row major. It means that each line is concatainated.\n",
    "    boardstate=[]\n",
    "    count=0\n",
    "    for y in range(nbrows):\n",
    "        for x in range(nbcolumns):\n",
    "            boardstate.append((x,y))\n",
    "    return boardstate\n",
    "\n",
    "def getXYfromAgentState(agentstate,boardstate):\n",
    "    xy=boardstate[agentstate]\n",
    "    return xy\n",
    "\n",
    "def getAgentStateFromXY(x,y,boardstate):\n",
    "    return boardstate.index((x,y))\n",
    "\n",
    "def target_policy(action_values, state):\n",
    "    av = action_values[state]\n",
    "    return np.random.choice(np.flatnonzero(av == av.max()))\n",
    "\n",
    "def exploratory_policy(possible_actions): \n",
    "    return np.random.choice(possible_actions)\n",
    "\n",
    "def get_possible_actions(env, ncol, nrow, done): \n",
    "    no_pos_action = True\n",
    "    actions = np.array([])\n",
    "    for col in range(ncol):\n",
    "        if env.column_height(col) < nrow:\n",
    "            actions = np.append(actions, np.array([col]))\n",
    "            no_pos_action = False\n",
    "    if no_pos_action:\n",
    "        done = True\n",
    "    return([actions.astype(int), done])\n",
    "\n",
    "def getNextState(board_now, board_before, boardstate, getAgentStateFromXY):\n",
    "    board_diff = board_now - board_before\n",
    "    change = np.argwhere(board_diff != 0)\n",
    "    next_state = getAgentStateFromXY(change[0][1], change[0][0], boardstate)\n",
    "    return(next_state)\n",
    "\n",
    "def makeUpdate(player, state, action_values, env, nrow, ncol, alpha, gamma, done, \n",
    "               get_possible_actions, getNextState, exploratory_policy, target_policy, getAgentStateFromXY):\n",
    "    board_before = env.get_simple_slots()\n",
    "    possible_actions, done = get_possible_actions(env, ncol, nrow, done)\n",
    "    if done: \n",
    "        return([env, action_values, state, done])\n",
    "    action = exploratory_policy(possible_actions)\n",
    "    if player == 1:\n",
    "        env.drop(Chip.YELLOW, action)\n",
    "    elif player == 2:\n",
    "        env.drop(Chip.RED, action)\n",
    "    else: \n",
    "        raise Exeption(\"Wrong Player Number\")\n",
    "    next_state = getNextState(env.get_simple_slots(), board_before, boardstate, getAgentStateFromXY)\n",
    "    check_victory = env.check_for_victory()\n",
    "    if check_victory: \n",
    "        reward = 10\n",
    "        done = True\n",
    "    else: \n",
    "        reward = -1\n",
    "    next_action = target_policy(action_values, next_state)\n",
    "    \n",
    "    qsa = action_values[state][action]\n",
    "    next_qsa = action_values[next_state][next_action]\n",
    "    action_values[state][action] = qsa + alpha * (reward + gamma * next_qsa - qsa)\n",
    "    state = next_state\n",
    "    return([env, action_values, state, done])\n",
    "\n",
    "def q_learning_one_game(av1, av2, env, boardstate, exploratory_policy, target_policy, \n",
    "                        get_possible_actions, getNextState, nrow, ncol, alpha = 0.1, gamma = 0.99):\n",
    "    env.reset()\n",
    "    state = 0\n",
    "    done = False\n",
    "    while not done:\n",
    "        # Player 1 (Yellow): \n",
    "        env, av1, next_state, done = makeUpdate(1, \n",
    "                                                state, \n",
    "                                                av1, \n",
    "                                                env, \n",
    "                                                nrow, \n",
    "                                                ncol, \n",
    "                                                alpha, \n",
    "                                                gamma, \n",
    "                                                done, \n",
    "                                                get_possible_actions, \n",
    "                                                getNextState, \n",
    "                                                exploratory_policy, \n",
    "                                                target_policy, \n",
    "                                                getAgentStateFromXY)\n",
    "\n",
    "\n",
    "        if done: \n",
    "            break\n",
    "        state = next_state\n",
    "        \n",
    "        # Player 2 (Red): \n",
    "        env, av2, next_state, done = makeUpdate(2, \n",
    "                                                state, \n",
    "                                                av2, \n",
    "                                                env, \n",
    "                                                nrow, \n",
    "                                                ncol, \n",
    "                                                alpha, \n",
    "                                                gamma, \n",
    "                                                done, \n",
    "                                                get_possible_actions, \n",
    "                                                getNextState, \n",
    "                                                exploratory_policy, \n",
    "                                                target_policy, \n",
    "                                                getAgentStateFromXY)\n",
    "        state = next_state\n",
    "    return([av1, av2])\n",
    "\n",
    "\n",
    "def playManyGames(env, niter, boardstate, nrow, ncol, exploratory_policy, target_policy, \n",
    "                  get_possible_actions, getNextState):\n",
    "    action_values1 = np.zeros((len(boardstate), ncol))\n",
    "    action_values2 = np.zeros((len(boardstate), ncol))\n",
    "    for iter in range(niter):\n",
    "        action_values1, action_values2 = q_learning_one_game(action_values1, action_values2, env, boardstate, \n",
    "                                                            exploratory_policy, target_policy, get_possible_actions, getNextState, nrow, ncol)\n",
    "    return([action_values1, action_values2])\n",
    "\n",
    "\n",
    "def transformAV(action_values, ncol, nrow, boardstate, getXYfromAgentState):\n",
    "    new_av = np.zeros([nrow, ncol**2])\n",
    "    for row in range(len(action_values)):\n",
    "        colpos, rowpos = getXYfromAgentState(row, boardstate)\n",
    "        for action in range(ncol):\n",
    "            new_av[rowpos, colpos * 7 + action] = action_values[row, action]\n",
    "    return(new_av)"
   ]
  },
  {
   "cell_type": "code",
   "execution_count": 3,
   "id": "50f8033b-d895-4c89-94b6-e8897729b2c3",
   "metadata": {},
   "outputs": [],
   "source": [
    "# Create a game - do not go too large, will not work\n",
    "nrow = 6\n",
    "ncol = 7\n",
    "env = FourInRowGame(nrow, ncol)\n",
    "boardstate = CreateBoardStates(nrow, ncol)"
   ]
  },
  {
   "cell_type": "code",
   "execution_count": 4,
   "id": "893a3770-9ffd-4b4f-8361-e9823c2872e8",
   "metadata": {},
   "outputs": [],
   "source": [
    "action_values1, action_values2 = playManyGames(env, 10000, boardstate, nrow, ncol, \n",
    "                                               exploratory_policy, target_policy, get_possible_actions, getNextState)"
   ]
  },
  {
   "cell_type": "code",
   "execution_count": 5,
   "id": "f655a93f-621d-4a74-816d-95c797ae78ca",
   "metadata": {},
   "outputs": [],
   "source": [
    "avnew1 = transformAV(action_values1, ncol, nrow, boardstate, getXYfromAgentState)\n",
    "avnew2 = transformAV(action_values2, ncol, nrow, boardstate, getXYfromAgentState)"
   ]
  },
  {
   "cell_type": "code",
   "execution_count": 6,
   "id": "e0566cfb-1830-430c-86f2-707a2598c8cb",
   "metadata": {},
   "outputs": [
    {
     "data": {
      "image/png": "[encoded data removed]",
      "text/plain": [
       "<Figure size 640x480 with 2 Axes>"
      ]
     },
     "metadata": {},
     "output_type": "display_data"
    }
   ],
   "source": [
    "ax = sns.heatmap(avnew1,  \n",
    "                 cmap = \"coolwarm\",\n",
    "                 cbar = True,\n",
    "                 yticklabels = False, \n",
    "                 xticklabels = False)\n",
    "ax.hlines([0, 1, 2, 3, 4, 5, 6], *ax.get_xlim(), color = \"black\")\n",
    "ax.vlines([0, 7, 14, 21, 28, 35, 42], *ax.get_ylim(), color = \"black\")\n",
    "plt.show()"
   ]
  },
  {
   "cell_type": "code",
   "execution_count": 7,
   "id": "3debbcd3-5d87-44b2-8128-983bc861394a",
   "metadata": {},
   "outputs": [
    {
     "data": {
      "image/png": "[encoded data removed]",
      "text/plain": [
       "<Figure size 640x480 with 2 Axes>"
      ]
     },
     "metadata": {},
     "output_type": "display_data"
    }
   ],
   "source": [
    "ax = sns.heatmap(avnew2,  \n",
    "                 cmap = \"coolwarm\",\n",
    "                 cbar = True,\n",
    "                 yticklabels = False, \n",
    "                 xticklabels = False)\n",
    "ax.hlines([0, 1, 2, 3, 4, 5, 6], *ax.get_xlim(), color = \"black\")\n",
    "ax.vlines([0, 7, 14, 21, 28, 35, 42], *ax.get_ylim(), color = \"black\")\n",
    "plt.show()"
   ]
  },
  {
   "cell_type": "code",
   "execution_count": 28,
   "id": "9e09603c-b243-47ce-a2be-8f35c0f03b2a",
   "metadata": {},
   "outputs": [],
   "source": [
    "def Connect4QLearn(env, action_values, boardstate, getAgentStateFromXY, get_possible_actions, getNextState):\n",
    "    env.reset()\n",
    "    done = False\n",
    "    state = 0\n",
    "    while not done:\n",
    "        # Player 1: User\n",
    "        possible_actions, done = get_possible_actions(env, ncol, nrow, done)\n",
    "        board_before = env.get_simple_slots()\n",
    "        if done: \n",
    "            return([env, \"No one won\"])\n",
    "        env.print()\n",
    "        print(\"\\n\")\n",
    "        text = \"Choose an action from \" + np.array2string(possible_actions + 1)\n",
    "        action = input(text)\n",
    "        action = int(action) - 1\n",
    "        env.drop(Chip.YELLOW, action)\n",
    "        state = getNextState(env.get_simple_slots(), board_before, boardstate, getAgentStateFromXY)\n",
    "        victory = env.check_for_victory()\n",
    "        if victory:\n",
    "            done = True\n",
    "            return([env, \"Congrats, you won!\"])\n",
    "\n",
    "       # Player 2: Q Learned Machine\n",
    "        possible_actions, done = get_possible_actions(env, ncol, nrow, done)\n",
    "        board_before = env.get_simple_slots()\n",
    "        if done: \n",
    "            return([env, \"No one won\"])\n",
    "        env.print()\n",
    "        print(\"\\n\")\n",
    "        av = action_values[state]\n",
    "        action = np.random.choice(np.flatnonzero(av == av.max()))\n",
    "        env.drop(Chip.RED, action)\n",
    "        state = getNextState(env.get_simple_slots(), board_before, boardstate, getAgentStateFromXY)\n",
    "        victory = env.check_for_victory()\n",
    "        if victory:\n",
    "            done = True\n",
    "            return([env, \"The machine won!\"])\n",
    "        \n",
    "    return([env, \"Something unforseen happened\"])\n",
    "    "
   ]
  },
  {
   "cell_type": "code",
   "execution_count": 31,
   "id": "a362f428-597b-464c-a940-b91fd9b74b80",
   "metadata": {},
   "outputs": [
    {
     "name": "stdout",
     "output_type": "stream",
     "text": [
      "\n",
      "- - - - - - - \n",
      "- - - - - - - \n",
      "- - - - - - - \n",
      "- - - - - - - \n",
      "- - - - - - - \n",
      "- - - - - - - \n",
      "\n"
     ]
    },
    {
     "name": "stdin",
     "output_type": "stream",
     "text": [
      "Choose an action from [1 2 3 4 5 6 7] 5\n"
     ]
    },
    {
     "name": "stdout",
     "output_type": "stream",
     "text": [
      "\n",
      "- - - - - - - \n",
      "- - - - - - - \n",
      "- - - - - - - \n",
      "- - - - - - - \n",
      "- - - - - - - \n",
      "- - - - Y - - \n",
      "\n",
      "\n",
      "- - - - - - - \n",
      "- - - - - - - \n",
      "- - - - - - - \n",
      "- - - - - - - \n",
      "- - - - - - - \n",
      "- - - R Y - - \n",
      "\n"
     ]
    },
    {
     "name": "stdin",
     "output_type": "stream",
     "text": [
      "Choose an action from [1 2 3 4 5 6 7] 5\n"
     ]
    },
    {
     "name": "stdout",
     "output_type": "stream",
     "text": [
      "\n",
      "- - - - - - - \n",
      "- - - - - - - \n",
      "- - - - - - - \n",
      "- - - - - - - \n",
      "- - - - Y - - \n",
      "- - - R Y - - \n",
      "\n",
      "\n",
      "- - - - - - - \n",
      "- - - - - - - \n",
      "- - - - - - - \n",
      "- - - - R - - \n",
      "- - - - Y - - \n",
      "- - - R Y - - \n",
      "\n"
     ]
    },
    {
     "name": "stdin",
     "output_type": "stream",
     "text": [
      "Choose an action from [1 2 3 4 5 6 7] 4\n"
     ]
    },
    {
     "name": "stdout",
     "output_type": "stream",
     "text": [
      "\n",
      "- - - - - - - \n",
      "- - - - - - - \n",
      "- - - - - - - \n",
      "- - - - R - - \n",
      "- - - Y Y - - \n",
      "- - - R Y - - \n",
      "\n",
      "\n",
      "- - - - - - - \n",
      "- - - - - - - \n",
      "- - - - - - - \n",
      "- - - - R - - \n",
      "- - - Y Y - - \n",
      "- R - R Y - - \n",
      "\n"
     ]
    },
    {
     "name": "stdin",
     "output_type": "stream",
     "text": [
      "Choose an action from [1 2 3 4 5 6 7] 2\n"
     ]
    },
    {
     "name": "stdout",
     "output_type": "stream",
     "text": [
      "\n",
      "- - - - - - - \n",
      "- - - - - - - \n",
      "- - - - - - - \n",
      "- - - - R - - \n",
      "- Y - Y Y - - \n",
      "- R - R Y - - \n",
      "\n",
      "\n",
      "- - - - - - - \n",
      "- - - - - - - \n",
      "- - - - - - - \n",
      "- - - - R - - \n",
      "- Y - Y Y - - \n",
      "- R R R Y - - \n",
      "\n"
     ]
    },
    {
     "name": "stdin",
     "output_type": "stream",
     "text": [
      "Choose an action from [1 2 3 4 5 6 7] 3\n"
     ]
    },
    {
     "name": "stdout",
     "output_type": "stream",
     "text": [
      "\n",
      "- - - - - - - \n",
      "- - - - - - - \n",
      "- - - - - - - \n",
      "- - - - R - - \n",
      "- Y Y Y Y - - \n",
      "- R R R Y - - \n",
      "Congrats, you won!\n"
     ]
    }
   ],
   "source": [
    "env, message = Connect4QLearn(env, action_values1, boardstate, getAgentStateFromXY, get_possible_actions, getNextState)\n",
    "env.print()\n",
    "print(\"\\n\" + message)"
   ]
  }
 ],
 "metadata": {
  "kernelspec": {
   "display_name": "Python 3 (ipykernel)",
   "language": "python",
   "name": "python3"
  },
  "language_info": {
   "codemirror_mode": {
    "name": "ipython",
    "version": 3
   },
   "file_extension": ".py",
   "mimetype": "text/x-python",
   "name": "python",
   "nbconvert_exporter": "python",
   "pygments_lexer": "ipython3",
   "version": "3.9.18"
  }
 },
 "nbformat": 4,
 "nbformat_minor": 5
}
