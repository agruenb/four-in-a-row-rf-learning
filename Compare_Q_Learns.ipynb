{
 "cells": [
  {
   "cell_type": "code",
   "execution_count": 120,
   "id": "ba8be296-cd6e-4b2d-8c7d-5203f7a63b7b",
   "metadata": {},
   "outputs": [],
   "source": [
    "from fourInRowGame import Chip, FourInRowGame\n",
    "import numpy as np\n",
    "import seaborn as sns\n",
    "import matplotlib.pylab as plt\n",
    "import models\n",
    "import torch\n",
    "import numpy as np\n",
    "import pickle\n",
    "from tabulate import tabulate"
   ]
  },
  {
   "cell_type": "code",
   "execution_count": 83,
   "id": "2793e615-aa75-44eb-bee1-66039c7b22ee",
   "metadata": {},
   "outputs": [
    {
     "name": "stdout",
     "output_type": "stream",
     "text": [
      "[3, 6, 2]\n"
     ]
    }
   ],
   "source": [
    "pos_act = [1,3,5]\n",
    "ac_Val = [0,3,2,6,5,2,1]\n",
    "ac_Val\n",
    "print([ac_Val[actions] for actions in pos_act])"
   ]
  },
  {
   "cell_type": "code",
   "execution_count": 84,
   "id": "9c99c400-24d3-4e19-83f0-858f1fa4513c",
   "metadata": {},
   "outputs": [
    {
     "name": "stdout",
     "output_type": "stream",
     "text": [
      "[17.26745428 16.88747158 17.55294413 17.49255462 17.65974937 17.92912972\n",
      " 17.92721583]\n",
      "5\n",
      "[       -inf 16.88747158        -inf 17.49255462        -inf 17.92912972\n",
      "        -inf]\n",
      "5\n"
     ]
    }
   ],
   "source": [
    "print(action_values1[0])\n",
    "av = np.copy(action_values1[0])\n",
    "not_pos_act = mask = np.isin(np.arange(len(av)), pos_act, invert=True)\n",
    "print(np.random.choice(np.flatnonzero(av == av.max())))\n",
    "av[not_pos_act] = np.NINF\n",
    "print(av)\n",
    "print(np.random.choice(np.flatnonzero(av == av.max())))"
   ]
  },
  {
   "cell_type": "code",
   "execution_count": 87,
   "id": "abeb9c60-e528-401c-b743-8f379882514f",
   "metadata": {},
   "outputs": [],
   "source": [
    "def create_board_states(nbrows,nbcolumns):   \n",
    "    #boardstate is a list where all (x,y) are stored. The order is row major. It means that each line is concatainated.\n",
    "    boardstate=[]\n",
    "    count=0\n",
    "    for y in range(nbrows):\n",
    "        for x in range(nbcolumns):\n",
    "            boardstate.append((x,y))\n",
    "    return boardstate\n",
    "\n",
    "\n",
    "def get_xy_from_agent_state(agentstate,boardstate):\n",
    "    xy=boardstate[agentstate]\n",
    "    return xy\n",
    "\n",
    "\n",
    "def get_agent_state_from_xy(x,y,boardstate):\n",
    "    return boardstate.index((x,y))\n",
    "\n",
    "\n",
    "def get_possible_actions(env, ncol, nrow, terminated): \n",
    "    no_pos_action = True\n",
    "    actions = np.array([])\n",
    "    for col in range(ncol):\n",
    "        if env.column_height(col) < nrow:\n",
    "            actions = np.append(actions, np.array([col]))\n",
    "            no_pos_action = False\n",
    "    if no_pos_action:\n",
    "        terminated = True\n",
    "    return actions.astype(int), terminated\n",
    "\n",
    "\n",
    "def get_next_state(board_now, board_before, boardstate):\n",
    "    board_diff = board_now - board_before\n",
    "    change = np.argwhere(board_diff != 0)\n",
    "    next_state = get_agent_state_from_xy(change[0][1], change[0][0], boardstate)\n",
    "    return(next_state)\n",
    "\n",
    "\n",
    "def get_action_play(model, state):\n",
    "    #Get predictions\n",
    "    preds = model(state)\n",
    "    weights = preds.clone().numpy(force=True)\n",
    "    action = np.argmax(weights)\n",
    "    return int(action), weights\n",
    "\n",
    "\n",
    "def check_valid_play(action, weights, env, terminated):\n",
    "    cont = True\n",
    "    while cont:    \n",
    "        if env.column_height(action) >= 6:\n",
    "            if np.isfinite(weights).sum() != 0:\n",
    "                weights[action] = np.NINF\n",
    "                action = np.argmax(weights)\n",
    "            else:\n",
    "                return(None, terminated)\n",
    "        else:\n",
    "            cont = False    \n",
    "    return action, terminated\n",
    "\n",
    "\n",
    "def make_step_play(env, action, player, chip_player, terminated):\n",
    "    # Model is player 1 and makes a step\n",
    "    env.drop(chip_player, action)\n",
    "    if env.check_for_victory():\n",
    "        winner = player\n",
    "        terminated = True\n",
    "    else:\n",
    "        not_full_cols = 0\n",
    "        for col in range(6):\n",
    "           if env.column_height(col) <= 5:\n",
    "               not_full_cols += 1\n",
    "        if not_full_cols == 0:\n",
    "            terminated = True\n",
    "        winner = 0\n",
    "    return env, winner, terminated\n",
    "\n",
    "\n",
    "def get_player_decision(env, player, terminated, state_simpleQ, action_values, model):\n",
    "    # Save the board for Q-Learning\n",
    "    board_before = env.get_simple_slots()\n",
    "    # Player needs to move\n",
    "    if player == \"simpleQ\":\n",
    "        possible_actions, terminated = get_possible_actions(env, 7, 6, terminated)\n",
    "        av = np.copy(action_values[state_simpleQ])\n",
    "        not_possible_actions = np.isin(np.arange(len(av)), possible_actions, invert=True)\n",
    "        av[not_possible_actions] = np.NINF\n",
    "        action = np.random.choice(np.flatnonzero(av == av.max()))\n",
    "    elif player == \"deepQ\":\n",
    "        state_nn = torch.tensor(env.get_simple_slots(), dtype=torch.float)\n",
    "        action, weights = get_action_play(model, state_nn)\n",
    "        action, terminated = check_valid_play(action, weights, env, terminated)\n",
    "    elif player == \"rand\":\n",
    "        possible_actions, terminated = get_possible_actions(env, 7, 6, terminated)\n",
    "        action = np.random.choice(possible_actions)\n",
    "    else:\n",
    "        raise ValueError(f\"This type of player is not allowed\")\n",
    "    return action, terminated, board_before\n"
   ]
  },
  {
   "cell_type": "code",
   "execution_count": 89,
   "id": "a2923a7e-9552-4543-9063-759b704de80c",
   "metadata": {},
   "outputs": [],
   "source": [
    "def compare_q_learns(env, player1, player2, chip_p1, chip_p2, action_values1 = None, action_values2 = None, model1 = None, model2 = None):\n",
    "    env.reset()\n",
    "    terminated = False\n",
    "    state_simpleQ = 0\n",
    "    winner = 0\n",
    "    boardstate = create_board_states(6, 7)\n",
    "    while not terminated:\n",
    "        # env.print()\n",
    "        # print(\"\\n\")\n",
    "        action, terminated, board_before = get_player_decision(env, player1, terminated, state_simpleQ, action_values1, model1)\n",
    "        if terminated: \n",
    "            # env.print()\n",
    "            # print(\"\\n\")\n",
    "            return winner\n",
    "\n",
    "        # Make the actual action:\n",
    "        env, winner, terminated = make_step_play(env, action, 1, chip_p1, terminated)\n",
    "        # Save the state for Simple Q-Learning\n",
    "        state_simpleQ = get_next_state(env.get_simple_slots(), board_before, boardstate)\n",
    "\n",
    "        # env.print()\n",
    "        # print(\"\\n\")\n",
    "        \n",
    "        if terminated: \n",
    "            return winner\n",
    "        if not terminated: \n",
    "\n",
    "            # Player 2 has to make a move\n",
    "            action, terminated, board_before = get_player_decision(env, player2, terminated, state_simpleQ, action_values2, model2)\n",
    "            if terminated: \n",
    "                # env.print()\n",
    "                # print(\"\\n\")\n",
    "                return winner\n",
    "            # Make the actual action:\n",
    "            env, winner, terminated = make_step_play(env, action, 2, chip_p2, terminated)\n",
    "            # Save the state for Simple Q-Learning\n",
    "            state_simpleQ = get_next_state(env.get_simple_slots(), board_before, boardstate)\n",
    "\n",
    "    return winner"
   ]
  },
  {
   "cell_type": "code",
   "execution_count": 201,
   "id": "b9c0567a-04d8-406a-9541-4470f4ea257a",
   "metadata": {},
   "outputs": [],
   "source": [
    "winner_board = [['player1', 'player2', 'rep', 'win1', 'win2', 'winX']]"
   ]
  },
  {
   "cell_type": "code",
   "execution_count": 206,
   "id": "c5bd064d-53c4-4d87-9f8e-60c6be9d04fa",
   "metadata": {},
   "outputs": [],
   "source": [
    "with open('Q_Learn_av1.pkl', 'rb') as file:\n",
    "    action_values1 = pickle.load(file)\n",
    "with open('Q_Learn_av2.pkl', 'rb') as file:\n",
    "    action_values2 = pickle.load(file)"
   ]
  },
  {
   "cell_type": "code",
   "execution_count": 144,
   "id": "122cc61d-adc8-41bb-8a7b-c3d888696f64",
   "metadata": {},
   "outputs": [
    {
     "data": {
      "text/plain": [
       "FCmedium(\n",
       "  (flatten): Flatten(start_dim=1, end_dim=-1)\n",
       "  (net): Sequential(\n",
       "    (0): Linear(in_features=42, out_features=256, bias=True)\n",
       "    (1): ReLU()\n",
       "    (2): Linear(in_features=256, out_features=64, bias=True)\n",
       "    (3): ReLU()\n",
       "    (4): Linear(in_features=64, out_features=32, bias=True)\n",
       "    (5): ReLU()\n",
       "    (6): Linear(in_features=32, out_features=16, bias=True)\n",
       "    (7): ReLU()\n",
       "    (8): Linear(in_features=16, out_features=7, bias=True)\n",
       "  )\n",
       ")"
      ]
     },
     "execution_count": 144,
     "metadata": {},
     "output_type": "execute_result"
    }
   ],
   "source": [
    "model_type1 = \"FC\"\n",
    "if \"FC\" in model_type1:\n",
    "    in_dim1 = env.columns*env.rows\n",
    "elif \"CNN\" in model_type1:\n",
    "    in_dim1 = 1\n",
    "else:\n",
    "    raise ValueError(f\"This model type is unknown to me.\")\n",
    "model1 = models.FCmedium(in_dim1, env.columns)\n",
    "model1.load_state_dict(torch.load('FCmedium_1402_diff_ret'))\n",
    "model1.eval()"
   ]
  },
  {
   "cell_type": "code",
   "execution_count": 145,
   "id": "f8a8a13d-9ced-4d91-93de-918469926e39",
   "metadata": {},
   "outputs": [
    {
     "data": {
      "text/plain": [
       "CNNmedium(\n",
       "  (net): Sequential(\n",
       "    (0): Conv2d(1, 64, kernel_size=(3, 3), stride=(1, 1))\n",
       "    (1): ReLU()\n",
       "    (2): Conv2d(64, 16, kernel_size=(3, 3), stride=(1, 1), padding=(1, 1))\n",
       "    (3): ReLU()\n",
       "    (4): Conv2d(16, 1, kernel_size=(3, 3), stride=(1, 1))\n",
       "    (5): ReLU()\n",
       "  )\n",
       "  (out): Linear(in_features=6, out_features=7, bias=True)\n",
       ")"
      ]
     },
     "execution_count": 145,
     "metadata": {},
     "output_type": "execute_result"
    }
   ],
   "source": [
    "model_type2 = \"CNN\"\n",
    "if \"FC\" in model_type2:\n",
    "    in_dim2 = env.columns*env.rows\n",
    "elif \"CNN\" in model_type2:\n",
    "    in_dim2 = 1\n",
    "else:\n",
    "    raise ValueError(f\"This model type is unknown to me.\")\n",
    "model2 = models.CNNmedium(in_dim2, env.columns)\n",
    "model2.load_state_dict(torch.load('CNNmedium_1402_diff_ret'))\n",
    "model2.eval()"
   ]
  },
  {
   "cell_type": "code",
   "execution_count": 180,
   "id": "012463c0-0f08-45fc-b4f8-97ffaeb5aef9",
   "metadata": {},
   "outputs": [
    {
     "data": {
      "text/plain": [
       "CNNmedium(\n",
       "  (net): Sequential(\n",
       "    (0): Conv2d(1, 64, kernel_size=(3, 3), stride=(1, 1))\n",
       "    (1): ReLU()\n",
       "    (2): Conv2d(64, 16, kernel_size=(3, 3), stride=(1, 1), padding=(1, 1))\n",
       "    (3): ReLU()\n",
       "    (4): Conv2d(16, 1, kernel_size=(3, 3), stride=(1, 1))\n",
       "    (5): ReLU()\n",
       "  )\n",
       "  (out): Linear(in_features=6, out_features=7, bias=True)\n",
       ")"
      ]
     },
     "execution_count": 180,
     "metadata": {},
     "output_type": "execute_result"
    }
   ],
   "source": [
    "model_type3 = \"CNN\"\n",
    "if \"FC\" in model_type3:\n",
    "    in_dim3 = env.columns*env.rows\n",
    "elif \"CNN\" in model_type3:\n",
    "    in_dim3 = 1\n",
    "else:\n",
    "    raise ValueError(f\"This model type is unknown to me.\")\n",
    "model3 = models.CNNmedium(in_dim3, env.columns)\n",
    "model3.load_state_dict(torch.load('CNNmedium/Iteration_10'))\n",
    "model3.eval()"
   ]
  },
  {
   "cell_type": "code",
   "execution_count": 193,
   "id": "863ac736-5dfb-4bc1-bec7-93ff4e5a83b7",
   "metadata": {},
   "outputs": [
    {
     "data": {
      "text/plain": [
       "FCmedium(\n",
       "  (flatten): Flatten(start_dim=1, end_dim=-1)\n",
       "  (net): Sequential(\n",
       "    (0): Linear(in_features=42, out_features=256, bias=True)\n",
       "    (1): ReLU()\n",
       "    (2): Linear(in_features=256, out_features=64, bias=True)\n",
       "    (3): ReLU()\n",
       "    (4): Linear(in_features=64, out_features=32, bias=True)\n",
       "    (5): ReLU()\n",
       "    (6): Linear(in_features=32, out_features=16, bias=True)\n",
       "    (7): ReLU()\n",
       "    (8): Linear(in_features=16, out_features=7, bias=True)\n",
       "  )\n",
       ")"
      ]
     },
     "execution_count": 193,
     "metadata": {},
     "output_type": "execute_result"
    }
   ],
   "source": [
    "model_type4 = \"FC\"\n",
    "if \"FC\" in model_type4:\n",
    "    in_dim4 = env.columns*env.rows\n",
    "elif \"CNN\" in model_type4:\n",
    "    in_dim4 = 1\n",
    "else:\n",
    "    raise ValueError(f\"This model type is unknown to me.\")\n",
    "model4 = models.FCmedium(in_dim4, env.columns)\n",
    "model4.load_state_dict(torch.load('FCmedium/Iteration_10'))\n",
    "model4.eval()"
   ]
  },
  {
   "cell_type": "code",
   "execution_count": 210,
   "id": "82c5476c-b787-4d75-95c3-8ce111451ab7",
   "metadata": {},
   "outputs": [
    {
     "data": {
      "text/plain": [
       "CNNmedium(\n",
       "  (net): Sequential(\n",
       "    (0): Conv2d(1, 64, kernel_size=(3, 3), stride=(1, 1))\n",
       "    (1): ReLU()\n",
       "    (2): Conv2d(64, 16, kernel_size=(3, 3), stride=(1, 1), padding=(1, 1))\n",
       "    (3): ReLU()\n",
       "    (4): Conv2d(16, 1, kernel_size=(3, 3), stride=(1, 1))\n",
       "    (5): ReLU()\n",
       "  )\n",
       "  (out): Linear(in_features=6, out_features=7, bias=True)\n",
       ")"
      ]
     },
     "execution_count": 210,
     "metadata": {},
     "output_type": "execute_result"
    }
   ],
   "source": [
    "model_type5 = \"CNN\"\n",
    "if \"FC\" in model_type5:\n",
    "    in_dim5 = env.columns*env.rows\n",
    "elif \"CNN\" in model_type5:\n",
    "    in_dim5 = 1\n",
    "else:\n",
    "    raise ValueError(f\"This model type is unknown to me.\")\n",
    "model5 = models.CNNmedium(in_dim5, env.columns)\n",
    "model5.load_state_dict(torch.load('CNNmedium_1302'))\n",
    "model5.eval()"
   ]
  },
  {
   "cell_type": "code",
   "execution_count": 236,
   "id": "f04d255a-2b8f-406d-a18e-16fa52f02df3",
   "metadata": {},
   "outputs": [
    {
     "data": {
      "text/plain": [
       "FCsmall(\n",
       "  (flatten): Flatten(start_dim=1, end_dim=-1)\n",
       "  (net): Sequential(\n",
       "    (0): Linear(in_features=42, out_features=50, bias=True)\n",
       "    (1): ReLU()\n",
       "    (2): Linear(in_features=50, out_features=7, bias=True)\n",
       "  )\n",
       ")"
      ]
     },
     "execution_count": 236,
     "metadata": {},
     "output_type": "execute_result"
    }
   ],
   "source": [
    "model_type6 = \"FC\"\n",
    "if \"FC\" in model_type6:\n",
    "    in_dim6 = env.columns*env.rows\n",
    "elif \"CNN\" in model_type6:\n",
    "    in_dim6 = 1\n",
    "else:\n",
    "    raise ValueError(f\"This model type is unknown to me.\")\n",
    "model6 = models.FCsmall(in_dim6, env.columns)\n",
    "model6.load_state_dict(torch.load('FCsmall_10_02_2024'))\n",
    "model6.eval()"
   ]
  },
  {
   "cell_type": "code",
   "execution_count": 237,
   "id": "48290805-ba81-4b54-956d-588f01585623",
   "metadata": {},
   "outputs": [
    {
     "data": {
      "text/plain": [
       "CNNsmall(\n",
       "  (net): Sequential(\n",
       "    (0): Conv2d(1, 8, kernel_size=(3, 3), stride=(1, 1))\n",
       "    (1): ReLU()\n",
       "    (2): Conv2d(8, 1, kernel_size=(3, 3), stride=(1, 1))\n",
       "    (3): ReLU()\n",
       "  )\n",
       "  (out): Linear(in_features=6, out_features=7, bias=True)\n",
       ")"
      ]
     },
     "execution_count": 237,
     "metadata": {},
     "output_type": "execute_result"
    }
   ],
   "source": [
    "model_type7 = \"CNN\"\n",
    "if \"FC\" in model_type7:\n",
    "    in_dim7 = env.columns*env.rows\n",
    "elif \"CNN\" in model_type7:\n",
    "    in_dim7 = 1\n",
    "else:\n",
    "    raise ValueError(f\"This model type is unknown to me.\")\n",
    "model7 = models.CNNsmall(in_dim7, env.columns)\n",
    "model7.load_state_dict(torch.load('CNNsmall_10_02_2024'))\n",
    "model7.eval()"
   ]
  },
  {
   "cell_type": "code",
   "execution_count": 203,
   "id": "b0d7a4e8-94e2-4eae-827c-769d1f56fbc7",
   "metadata": {},
   "outputs": [],
   "source": [
    "env = FourInRowGame(6,7)"
   ]
  },
  {
   "cell_type": "code",
   "execution_count": 244,
   "id": "ae696c6b-24e4-4ac1-847b-87d6d209cda0",
   "metadata": {},
   "outputs": [],
   "source": [
    "nn_names = [\"FCmedium; Diff Ret\", \"CNNmedium; Diff Ret\", \"FCmedium; Diff Loss\", \"CNNmedium; Diff Loss\", \"CNNmedium; First\", \"FCsmall\", \"CNNsmall\"]\n",
    "player1 = \"rand\"\n",
    "player2 = \"deepQ\"\n",
    "model_name2 = nn_names[6]\n",
    "# model_name2 = nn_names[1]\n",
    "chip_p1 = Chip.RED\n",
    "chip_p2 = Chip.YELLOW\n",
    "repetitions = 1000"
   ]
  },
  {
   "cell_type": "code",
   "execution_count": 245,
   "id": "91d08355-ca1d-425c-94c6-0aec3ce421be",
   "metadata": {},
   "outputs": [],
   "source": [
    "win1_counter = 0\n",
    "win2_counter = 0\n",
    "winX_counter = 0\n",
    "for reps in range(repetitions):\n",
    "    winner = compare_q_learns(env, player1, player2, chip_p1, chip_p2, model2 = model7)\n",
    "    if winner == 1:\n",
    "        win1_counter += 1\n",
    "    elif winner == 2:\n",
    "        win2_counter += 1\n",
    "    elif winner == 0:\n",
    "        winX_counter += 1\n",
    "    else:\n",
    "        raise ValueError(f\"This winner is impossible\")\n",
    "if player1 == \"deepQ\":\n",
    "    player1 = player1 + \"; \" + model_name1 \n",
    "if player2 == \"deepQ\":\n",
    "    player2 = player2 + \"; \" + model_name2\n",
    "winner_board.append([player1, player2, repetitions, win1_counter/repetitions, win2_counter/repetitions, winX_counter/repetitions])"
   ]
  },
  {
   "cell_type": "code",
   "execution_count": 246,
   "id": "82531423-512d-4e32-a5fb-ba511b5f81cc",
   "metadata": {},
   "outputs": [],
   "source": [
    "table = tabulate(winner_board[1:], winner_board[0], tablefmt = \"grid\")"
   ]
  },
  {
   "cell_type": "code",
   "execution_count": 248,
   "id": "d6df97ea-8da4-4dcd-ad78-0c0baa00d494",
   "metadata": {},
   "outputs": [],
   "source": [
    "with open('WinnerBoard_1602v2.pkl', 'wb') as file:\n",
    "    pickle.dump(table, file)"
   ]
  },
  {
   "cell_type": "code",
   "execution_count": 247,
   "id": "e688e2d2-04f0-4d96-bab0-75260a1498b5",
   "metadata": {},
   "outputs": [
    {
     "name": "stdout",
     "output_type": "stream",
     "text": [
      "+-----------------------------+-----------------------------+-------+--------+--------+--------+\n",
      "| player1                     | player2                     |   rep |   win1 |   win2 |   winX |\n",
      "+=============================+=============================+=======+========+========+========+\n",
      "| simpleQ                     | rand                        |  1000 |  0.78  |  0.219 |  0.001 |\n",
      "+-----------------------------+-----------------------------+-------+--------+--------+--------+\n",
      "| rand                        | simpleQ                     |  1000 |  0.417 |  0.58  |  0.003 |\n",
      "+-----------------------------+-----------------------------+-------+--------+--------+--------+\n",
      "| deepQ; FCmedium; Diff Ret   | rand                        |  1000 |  0.828 |  0.172 |  0     |\n",
      "+-----------------------------+-----------------------------+-------+--------+--------+--------+\n",
      "| rand                        | deepQ; FCmedium; Diff Ret   |  1000 |  0.211 |  0.789 |  0     |\n",
      "+-----------------------------+-----------------------------+-------+--------+--------+--------+\n",
      "| deepQ; CNNmedium; Diff Ret  | rand                        |  1000 |  0.894 |  0.106 |  0     |\n",
      "+-----------------------------+-----------------------------+-------+--------+--------+--------+\n",
      "| rand                        | deepQ; CNNmedium; Diff Ret  |  1000 |  0.173 |  0.827 |  0     |\n",
      "+-----------------------------+-----------------------------+-------+--------+--------+--------+\n",
      "| deepQ; FCmedium; Diff Loss  | rand                        |  1000 |  0.913 |  0.087 |  0     |\n",
      "+-----------------------------+-----------------------------+-------+--------+--------+--------+\n",
      "| rand                        | deepQ; FCmedium; Diff Loss  |  1000 |  0.178 |  0.822 |  0     |\n",
      "+-----------------------------+-----------------------------+-------+--------+--------+--------+\n",
      "| deepQ; CNNmedium; Diff Loss | rand                        |  1000 |  0.869 |  0.131 |  0     |\n",
      "+-----------------------------+-----------------------------+-------+--------+--------+--------+\n",
      "| rand                        | deepQ; CNNmedium; Diff Loss |  1000 |  0.211 |  0.789 |  0     |\n",
      "+-----------------------------+-----------------------------+-------+--------+--------+--------+\n",
      "| deepQ; CNNmedium; First     | rand                        |  1000 |  0.858 |  0.142 |  0     |\n",
      "+-----------------------------+-----------------------------+-------+--------+--------+--------+\n",
      "| rand                        | deepQ; CNNmedium; First     |  1000 |  0.167 |  0.833 |  0     |\n",
      "+-----------------------------+-----------------------------+-------+--------+--------+--------+\n",
      "| deepQ; FCsmall              | rand                        |  1000 |  0.802 |  0.198 |  0     |\n",
      "+-----------------------------+-----------------------------+-------+--------+--------+--------+\n",
      "| rand                        | deepQ; FCsmall              |  1000 |  0.243 |  0.757 |  0     |\n",
      "+-----------------------------+-----------------------------+-------+--------+--------+--------+\n",
      "| deepQ; CNNsmall             | rand                        |  1000 |  0.871 |  0.129 |  0     |\n",
      "+-----------------------------+-----------------------------+-------+--------+--------+--------+\n",
      "| rand                        | deepQ; CNNsmall             |  1000 |  0.237 |  0.763 |  0     |\n",
      "+-----------------------------+-----------------------------+-------+--------+--------+--------+\n"
     ]
    }
   ],
   "source": [
    "print(table)"
   ]
  }
 ],
 "metadata": {
  "kernelspec": {
   "display_name": "Python 3 (ipykernel)",
   "language": "python",
   "name": "python3"
  },
  "language_info": {
   "codemirror_mode": {
    "name": "ipython",
    "version": 3
   },
   "file_extension": ".py",
   "mimetype": "text/x-python",
   "name": "python",
   "nbconvert_exporter": "python",
   "pygments_lexer": "ipython3",
   "version": "3.9.18"
  }
 },
 "nbformat": 4,
 "nbformat_minor": 5
}
